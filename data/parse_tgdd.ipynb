{
  "nbformat": 4,
  "nbformat_minor": 0,
  "metadata": {
    "colab": {
      "name": "parse_tgdd.ipynb",
      "provenance": [],
      "collapsed_sections": [],
      "include_colab_link": true
    },
    "kernelspec": {
      "name": "python3",
      "display_name": "Python 3"
    },
    "accelerator": "GPU"
  },
  "cells": [
    {
      "cell_type": "markdown",
      "metadata": {
        "id": "view-in-github",
        "colab_type": "text"
      },
      "source": [
        "<a href=\"https://colab.research.google.com/github/hthoai/3d-objects-opengl/blob/master/data/parse_tgdd.ipynb\" target=\"_parent\"><img src=\"https://colab.research.google.com/assets/colab-badge.svg\" alt=\"Open In Colab\"/></a>"
      ]
    },
    {
      "cell_type": "code",
      "metadata": {
        "id": "mgfD4kP-002h",
        "colab_type": "code",
        "colab": {},
        "cellView": "form"
      },
      "source": [
        "#@title Import\n",
        "pip install requests_html\n",
        "from requests_html import HTMLSession, HTML"
      ],
      "execution_count": 0,
      "outputs": []
    },
    {
      "cell_type": "code",
      "metadata": {
        "id": "o3MGROvdaKZK",
        "colab_type": "code",
        "colab": {}
      },
      "source": [
        "session = HTMLSession()"
      ],
      "execution_count": 0,
      "outputs": []
    },
    {
      "cell_type": "code",
      "metadata": {
        "id": "ThwS41jQaUUy",
        "colab_type": "code",
        "colab": {}
      },
      "source": [
        "url = 'https://www.thegioididong.com/dtdd/samsung-galaxy-note-10-plus/danh-gia'\n",
        "r = session.get(url)"
      ],
      "execution_count": 0,
      "outputs": []
    },
    {
      "cell_type": "code",
      "metadata": {
        "id": "5azJNS4Vc2Qk",
        "colab_type": "code",
        "colab": {}
      },
      "source": [
        "f = open('samsung_not10plus.tsv', 'w', encoding='utf-8')\n",
        "f.write('content\\titem\\tbrand\\tstar\\tlink\\n')\n",
        "comments = r.html.find('.rc')\n",
        "link = url\n",
        "brand = 'Samsung'\n",
        "item = 'Samsung Galaxy Note 10+'\n",
        "\n",
        "for cmt in comments:\n",
        "    star = len(cmt.find('.iconcom-txtstar'))\n",
        "    if star > 0:\n",
        "        content = cmt.find('.rc', first=True).text\n",
        "        f.write(f'{content}\\t{item}\\t{brand}\\t{star}\\t{link}\\n')\n",
        "        "
      ],
      "execution_count": 0,
      "outputs": []
    }
  ]
}